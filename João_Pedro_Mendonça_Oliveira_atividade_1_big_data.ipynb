{
  "cells": [
    {
      "cell_type": "markdown",
      "metadata": {
        "id": "ZM0mzSS3aD5d"
      },
      "source": [
        "#**PROJETO: Simulação do Álbum de Figurinhas da Copa**\n",
        "\n",
        "---\n",
        "\n"
      ]
    },
    {
      "cell_type": "markdown",
      "metadata": {
        "id": "4CwYdS20aOAc"
      },
      "source": [
        "##Integrantes do Grupo:\n",
        "\n",
        "---\n",
        "\n"
      ]
    },
    {
      "cell_type": "code",
      "execution_count": 1,
      "metadata": {
        "id": "f3T0un5hZ9Kx"
      },
      "outputs": [],
      "source": [
        "import numpy as np\n",
        "import statistics"
      ]
    },
    {
      "cell_type": "code",
      "execution_count": 8,
      "metadata": {},
      "outputs": [],
      "source": [
        "n_album = 670\n",
        "preco_pacote = 4\n",
        "cromos_por_pacote = 5\n",
        "preco_album = 44.90\n",
        "simulacoes = 100"
      ]
    },
    {
      "cell_type": "code",
      "execution_count": 3,
      "metadata": {},
      "outputs": [],
      "source": [
        "FIGURINHAS = [x for x in range(670)]\n",
        "\n",
        "def abre_pacote():\n",
        "    return np.random.choice(FIGURINHAS, 5)"
      ]
    },
    {
      "cell_type": "code",
      "execution_count": 4,
      "metadata": {},
      "outputs": [],
      "source": [
        "def completa_album():\n",
        "    figurinhas_faltantes = FIGURINHAS.copy()\n",
        "    pacotes_abertos = 0\n",
        "    while figurinhas_faltantes:\n",
        "        novo_pacote = abre_pacote()\n",
        "        pacotes_abertos += 1\n",
        "        for f in novo_pacote:\n",
        "            if f in figurinhas_faltantes: figurinhas_faltantes.remove(f)\n",
        "    return pacotes_abertos"
      ]
    },
    {
      "cell_type": "code",
      "execution_count": 11,
      "metadata": {},
      "outputs": [],
      "source": [
        "def completa_album_2():\n",
        "    figurinhas_faltantes = FIGURINHAS.copy()\n",
        "    pacotes_abertos = 0\n",
        "    while figurinhas_faltantes:\n",
        "        novo_pacote = abre_pacote()\n",
        "        novo_pacote2 = abre_pacote()\n",
        "        pacote_final = [*novo_pacote, *novo_pacote2]\n",
        "        pacotes_abertos += 2\n",
        "        for f in pacote_final:\n",
        "            if f in figurinhas_faltantes: figurinhas_faltantes.remove(f)\n",
        "    return pacotes_abertos"
      ]
    },
    {
      "cell_type": "code",
      "execution_count": 15,
      "metadata": {
        "colab": {
          "base_uri": "https://localhost:8080/"
        },
        "id": "21_x5Pr6rH65",
        "outputId": "c2c7f3bc-ba62-4f5a-e3cb-931fc29daa8c"
      },
      "outputs": [
        {
          "name": "stdout",
          "output_type": "stream",
          "text": [
            "0\n",
            "1\n",
            "2\n",
            "3\n",
            "4\n",
            "5\n",
            "6\n",
            "7\n",
            "8\n",
            "9\n",
            "10\n",
            "11\n",
            "12\n",
            "13\n",
            "14\n",
            "15\n",
            "16\n",
            "17\n",
            "18\n",
            "19\n",
            "20\n",
            "21\n",
            "22\n",
            "23\n",
            "24\n",
            "25\n",
            "26\n",
            "27\n",
            "28\n",
            "29\n",
            "30\n",
            "31\n",
            "32\n",
            "33\n",
            "34\n",
            "35\n",
            "36\n",
            "37\n",
            "38\n",
            "39\n",
            "40\n",
            "41\n",
            "42\n",
            "43\n",
            "44\n",
            "45\n",
            "46\n",
            "47\n",
            "48\n",
            "49\n",
            "50\n",
            "51\n",
            "52\n",
            "53\n",
            "54\n",
            "55\n",
            "56\n",
            "57\n",
            "58\n",
            "59\n",
            "60\n",
            "61\n",
            "62\n",
            "63\n",
            "64\n",
            "65\n",
            "66\n",
            "67\n",
            "68\n",
            "69\n",
            "70\n",
            "71\n",
            "72\n",
            "73\n",
            "74\n",
            "75\n",
            "76\n",
            "77\n",
            "78\n",
            "79\n",
            "80\n",
            "81\n",
            "82\n",
            "83\n",
            "84\n",
            "85\n",
            "86\n",
            "87\n",
            "88\n",
            "89\n",
            "90\n",
            "91\n",
            "92\n",
            "93\n",
            "94\n",
            "95\n",
            "96\n",
            "97\n",
            "98\n",
            "99\n",
            "953.47 \n",
            " 966.94\n"
          ]
        }
      ],
      "source": [
        "\n",
        "if __name__ == \"__main__\":\n",
        "  sim = []\n",
        "  sim2 = []\n",
        "  for i in range(simulacoes):\n",
        "    sim.append(completa_album())\n",
        "    sim2.append(completa_album_2())\n",
        "    print(i)\n",
        "  print(statistics.mean(sim),\"\\n\",statistics.mean(sim2))"
      ]
    }
  ],
  "metadata": {
    "colab": {
      "collapsed_sections": [],
      "name": "João Pedro Mendonça Oliveira - atividade_1_big_data.ipynb",
      "provenance": []
    },
    "kernelspec": {
      "display_name": "Python 3.10.5 ('figurinhas_env': venv)",
      "language": "python",
      "name": "python3"
    },
    "language_info": {
      "codemirror_mode": {
        "name": "ipython",
        "version": 3
      },
      "file_extension": ".py",
      "mimetype": "text/x-python",
      "name": "python",
      "nbconvert_exporter": "python",
      "pygments_lexer": "ipython3",
      "version": "3.10.5"
    },
    "vscode": {
      "interpreter": {
        "hash": "c679121bbe20734ee0184694383cdcd3897792e8b2f08ab08da6516949df99a5"
      }
    }
  },
  "nbformat": 4,
  "nbformat_minor": 0
}
