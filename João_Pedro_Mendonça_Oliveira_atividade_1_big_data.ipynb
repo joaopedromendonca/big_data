{
  "cells": [
    {
      "cell_type": "markdown",
      "metadata": {
        "id": "ZM0mzSS3aD5d"
      },
      "source": [
        "#**PROJETO: Simulação do Álbum de Figurinhas da Copa**\n",
        "\n",
        "---\n",
        "\n"
      ]
    },
    {
      "cell_type": "markdown",
      "metadata": {
        "id": "4CwYdS20aOAc"
      },
      "source": [
        "##Integrantes do Grupo:\n",
        "\n",
        "---\n",
        "\n"
      ]
    },
    {
      "cell_type": "code",
      "execution_count": null,
      "metadata": {
        "id": "f3T0un5hZ9Kx"
      },
      "outputs": [],
      "source": [
        "import numpy as np\n",
        "import statistics"
      ]
    },
    {
      "cell_type": "code",
      "execution_count": null,
      "metadata": {},
      "outputs": [],
      "source": [
        "n_album = 670\n",
        "preco_pacote = 4\n",
        "cromos_por_pacote = 5\n",
        "preco_album = 44.90\n",
        "simulacoes = 1000"
      ]
    },
    {
      "cell_type": "code",
      "execution_count": null,
      "metadata": {},
      "outputs": [],
      "source": [
        "FIGURINHAS = {x for x in range(n_album)}\n",
        "FIGURINHAS_LIST = list(FIGURINHAS)\n",
        "def abre_pacote():\n",
        "    return np.random.choice(FIGURINHAS_LIST, 5)"
      ]
    },
    {
      "cell_type": "code",
      "execution_count": null,
      "metadata": {},
      "outputs": [],
      "source": [
        "def completa_album():\n",
        "    figurinhas_obtidas = set()\n",
        "    pacotes_abertos = 0\n",
        "    while figurinhas_obtidas != FIGURINHAS:\n",
        "        novo_pacote = abre_pacote()\n",
        "        pacotes_abertos += 1\n",
        "        figurinhas_obtidas.update(novo_pacote)\n",
        "    return pacotes_abertos"
      ]
    },
    {
      "cell_type": "code",
      "execution_count": null,
      "metadata": {},
      "outputs": [],
      "source": [
        "def completa_album_2():\n",
        "    figurinhas_obtidas = set()\n",
        "    pacotes_abertos = 0\n",
        "    while figurinhas_obtidas != FIGURINHAS:\n",
        "        novo_pacote = abre_pacote()\n",
        "        novo_pacote2 = abre_pacote()\n",
        "        pacote = [*novo_pacote, *novo_pacote2]\n",
        "        pacotes_abertos += 2\n",
        "        figurinhas_obtidas.update(pacote)\n",
        "    return pacotes_abertos"
      ]
    },
    {
      "cell_type": "code",
      "execution_count": null,
      "metadata": {},
      "outputs": [],
      "source": [
        "# distribuição empírica\n",
        "\n",
        "def distr_emp(pontos = 5):\n",
        "\n",
        "    # faz a distribuição empírica para 5 pontos\n",
        "    y_ax = [0]\n",
        "    figurinhas_obtidas = set()\n",
        "    pacotes_abertos = 0\n",
        "    x_ax = [int(670/pontos*x) for x in range(pontos+1)]\n",
        "    x_ax_aux = x_ax.copy()\n",
        "    x_ax_aux.pop(0)\n",
        "    \n",
        "    while figurinhas_obtidas != FIGURINHAS:\n",
        "        novo_pacote = abre_pacote()\n",
        "        figurinhas_obtidas.update(novo_pacote)\n",
        "        if x_ax_aux[0] <= len(figurinhas_obtidas):\n",
        "            y_ax.append(pacotes_abertos*preco_pacote)\n",
        "            x_ax_aux.pop(0)\n",
        "        pacotes_abertos += 1\n",
        "        \n",
        "    print(x_ax,y_ax)"
      ]
    },
    {
      "cell_type": "code",
      "execution_count": null,
      "metadata": {},
      "outputs": [],
      "source": [
        "distr_emp()"
      ]
    },
    {
      "cell_type": "code",
      "execution_count": null,
      "metadata": {},
      "outputs": [],
      "source": [
        "def distr_2():\n",
        "    \n",
        "    # faz a distribuição empírica para todos os pontos encontrados\n",
        "    figurinhas_obtidas = set()\n",
        "    pacotes_abertos = 0\n",
        "    # eixo do valor gasto até o momento\n",
        "    y_ax = [0]\n",
        "    # eixo da quantidade de figurinhas únicas obtidas\n",
        "    x_ax = [0]\n",
        "        \n",
        "    while figurinhas_obtidas != FIGURINHAS:\n",
        "        novo_pacote = abre_pacote()\n",
        "        s = set(novo_pacote)\n",
        "        # verifica se o novo pacote tem alguma figurinha nova\n",
        "        if (s - figurinhas_obtidas) != set():\n",
        "            y_ax.append(pacotes_abertos*preco_pacote)\n",
        "            x_ax.append(len(figurinhas_obtidas))\n",
        "            figurinhas_obtidas.update(novo_pacote)\n",
        "        pacotes_abertos += 1\n",
        "\n",
        "    return x_ax, y_ax"
      ]
    },
    {
      "cell_type": "code",
      "execution_count": null,
      "metadata": {},
      "outputs": [],
      "source": [
        "from matplotlib import pyplot as plt\n",
        "x_ax, y_ax = distr_2()\n",
        "# plt.style.use('fivethirtyeight')\n",
        "plt.plot(x_ax,y_ax, marker=\".\")\n",
        "plt.title(\"Distribuição empírica do valor investido por figurinhas únicas obtidas.\")\n",
        "plt.xlabel(\"Figurinhas únicas\")\n",
        "plt.ylabel(\"Valor gasto\")\n",
        "plt.show()"
      ]
    },
    {
      "cell_type": "code",
      "execution_count": null,
      "metadata": {
        "colab": {
          "base_uri": "https://localhost:8080/"
        },
        "id": "21_x5Pr6rH65",
        "outputId": "c2c7f3bc-ba62-4f5a-e3cb-931fc29daa8c"
      },
      "outputs": [],
      "source": [
        "\n",
        "if __name__ == \"__main__\":\n",
        "  sim = []\n",
        "  sim2 = []\n",
        "  for i in range(simulacoes):\n",
        "    # para fazer as simulações com uma pessoa comprando 1 pacote por vez\n",
        "    # sim.append(completa_album())\n",
        "    # para fazer as simulações com duas pessoas comprando 2 pacotes simultaneamente \n",
        "    sim.append(completa_album_2())\n",
        "    print(i)\n",
        "  media_pacotes = statistics.mean(sim)\n",
        "  preco_pacotes = media_pacotes*preco_pacote\n",
        "  print(f\"Para completar um album de {n_album} figurinhas que custa {preco_album}, é necessário comprar em média {media_pacotes} pacotes, com um gasto de {preco_pacotes} somente em pacotes de figurinhas, com um valor total de {preco_pacotes+preco_album}.\")\n",
        "  # calcular a distribuição empírica utilizando pontos de referência (figurinhas faltantes, valor gasto)\n",
        "  print(statistics.mean(sim))"
      ]
    }
  ],
  "metadata": {
    "colab": {
      "collapsed_sections": [],
      "name": "João Pedro Mendonça Oliveira - atividade_1_big_data.ipynb",
      "provenance": []
    },
    "kernelspec": {
      "display_name": "Python 3.10.5 ('env': venv)",
      "language": "python",
      "name": "python3"
    },
    "language_info": {
      "codemirror_mode": {
        "name": "ipython",
        "version": 3
      },
      "file_extension": ".py",
      "mimetype": "text/x-python",
      "name": "python",
      "nbconvert_exporter": "python",
      "pygments_lexer": "ipython3",
      "version": "3.10.5"
    },
    "vscode": {
      "interpreter": {
        "hash": "b4ec0a7c73c3125de13950208f2c98addff5825752dd000f089df2b813c70fbe"
      }
    }
  },
  "nbformat": 4,
  "nbformat_minor": 0
}
