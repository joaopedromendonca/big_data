{
  "cells": [
    {
      "cell_type": "markdown",
      "metadata": {
        "id": "ZM0mzSS3aD5d"
      },
      "source": [
        "#**PROJETO: Simulação do Álbum de Figurinhas da Copa**\n",
        "\n",
        "---\n",
        "\n"
      ]
    },
    {
      "cell_type": "markdown",
      "metadata": {
        "id": "4CwYdS20aOAc"
      },
      "source": [
        "##Integrantes do Grupo:\n",
        "\n",
        "---\n",
        "\n"
      ]
    },
    {
      "cell_type": "code",
      "execution_count": null,
      "metadata": {
        "id": "f3T0un5hZ9Kx"
      },
      "outputs": [],
      "source": [
        "import numpy as np\n",
        "import statistics"
      ]
    },
    {
      "cell_type": "code",
      "execution_count": null,
      "metadata": {},
      "outputs": [],
      "source": [
        "n_album = 670\n",
        "preco_pacote = 4\n",
        "cromos_por_pacote = 5\n",
        "preco_album = 44.90\n",
        "simulacoes = 10000"
      ]
    },
    {
      "cell_type": "code",
      "execution_count": null,
      "metadata": {},
      "outputs": [],
      "source": [
        "FIGURINHAS = {x for x in range(n_album)}\n",
        "FIGURINHAS_LIST = list(FIGURINHAS)\n",
        "def abre_pacote():\n",
        "    return np.random.choice(FIGURINHAS_LIST, 5)"
      ]
    },
    {
      "cell_type": "code",
      "execution_count": null,
      "metadata": {},
      "outputs": [],
      "source": [
        "def completa_album():\n",
        "    figurinhas_obtidas = set()\n",
        "    pacotes_abertos = 0\n",
        "    while figurinhas_obtidas != FIGURINHAS:\n",
        "        novo_pacote = abre_pacote()\n",
        "        pacotes_abertos += 1\n",
        "        figurinhas_obtidas.update(novo_pacote)\n",
        "    return pacotes_abertos"
      ]
    },
    {
      "cell_type": "code",
      "execution_count": null,
      "metadata": {},
      "outputs": [],
      "source": [
        "def completa_album_2():\n",
        "    figurinhas_obtidas = set()\n",
        "    pacotes_abertos = 0\n",
        "    while figurinhas_obtidas != FIGURINHAS:\n",
        "        novo_pacote = abre_pacote()\n",
        "        novo_pacote2 = abre_pacote()\n",
        "        pacote = [*novo_pacote, *novo_pacote2]\n",
        "        pacotes_abertos += 2\n",
        "        figurinhas_obtidas.update(pacote)\n",
        "    return pacotes_abertos"
      ]
    },
    {
      "cell_type": "code",
      "execution_count": null,
      "metadata": {
        "colab": {
          "base_uri": "https://localhost:8080/"
        },
        "id": "21_x5Pr6rH65",
        "outputId": "c2c7f3bc-ba62-4f5a-e3cb-931fc29daa8c"
      },
      "outputs": [],
      "source": [
        "\n",
        "if __name__ == \"__main__\":\n",
        "  sim = []\n",
        "  sim2 = []\n",
        "  for i in range(simulacoes):\n",
        "    sim.append(completa_album())\n",
        "    print(i)\n",
        "  print(statistics.mean(sim))"
      ]
    }
  ],
  "metadata": {
    "colab": {
      "collapsed_sections": [],
      "name": "João Pedro Mendonça Oliveira - atividade_1_big_data.ipynb",
      "provenance": []
    },
    "kernelspec": {
      "display_name": "Python 3.10.5 ('env': venv)",
      "language": "python",
      "name": "python3"
    },
    "language_info": {
      "codemirror_mode": {
        "name": "ipython",
        "version": 3
      },
      "file_extension": ".py",
      "mimetype": "text/x-python",
      "name": "python",
      "nbconvert_exporter": "python",
      "pygments_lexer": "ipython3",
      "version": "3.10.5"
    },
    "vscode": {
      "interpreter": {
        "hash": "b4ec0a7c73c3125de13950208f2c98addff5825752dd000f089df2b813c70fbe"
      }
    }
  },
  "nbformat": 4,
  "nbformat_minor": 0
}
