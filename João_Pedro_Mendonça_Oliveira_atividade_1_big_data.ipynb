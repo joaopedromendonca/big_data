{
  "nbformat": 4,
  "nbformat_minor": 0,
  "metadata": {
    "colab": {
      "name": "João Pedro Mendonça Oliveira - atividade_1_big_data.ipynb",
      "provenance": [],
      "collapsed_sections": []
    },
    "kernelspec": {
      "name": "python3",
      "display_name": "Python 3"
    },
    "language_info": {
      "name": "python"
    }
  },
  "cells": [
    {
      "cell_type": "markdown",
      "source": [
        "#**PROJETO: Simulação do Álbum de Figurinhas da Copa**\n",
        "\n",
        "---\n",
        "\n"
      ],
      "metadata": {
        "id": "ZM0mzSS3aD5d"
      }
    },
    {
      "cell_type": "markdown",
      "source": [
        "##Integrantes do Grupo:\n",
        "\n",
        "---\n",
        "\n"
      ],
      "metadata": {
        "id": "4CwYdS20aOAc"
      }
    },
    {
      "cell_type": "code",
      "execution_count": 123,
      "metadata": {
        "id": "f3T0un5hZ9Kx"
      },
      "outputs": [],
      "source": [
        "import numpy as np\n",
        "import statistics"
      ]
    },
    {
      "cell_type": "code",
      "source": [
        "class Album():\n",
        "\n",
        "  def __init__(self, n_album : int, preco_pacote : float, cromos_por_pacote : int, preco_album : float, simulacoes : int, figurinhas : set):\n",
        "    self.n_album = n_album\n",
        "    self.preco_pacote = preco_pacote\n",
        "    self.cromos_por_pacote = cromos_por_pacote\n",
        "    self.preco_album = preco_album\n",
        "    self.simulacoes = simulacoes\n",
        "    self.figurinhas_faltantes = figurinhas\n",
        "    self.pacotes_abertos = 0\n",
        "\n",
        "  def abre_pacote(self):\n",
        "    return np.random.choice(FIGURINHAS, 5)\n",
        "  \n",
        "  def completa_album(self):\n",
        "    while True:\n",
        "      if self.figurinhas_faltantes:\n",
        "        novo_pacote = self.abre_pacote()\n",
        "        self.pacotes_abertos += 1\n",
        "        for figurinha in novo_pacote:\n",
        "          if figurinha in self.figurinhas_faltantes:\n",
        "            self.figurinhas_faltantes.remove(figurinha)\n",
        "      else: \n",
        "        break\n",
        "\n",
        "  def completa_album2(self):\n",
        "    while True:\n",
        "      if self.figurinhas_faltantes:\n",
        "        novo_pacote = self.abre_pacote()\n",
        "        novo_pacote_amigo = self.abre_pacote()\n",
        "        self.pacotes_abertos += 2\n",
        "        pacotes = [*novo_pacote, *novo_pacote_amigo]\n",
        "        for figurinha in pacotes:\n",
        "          if figurinha in self.figurinhas_faltantes:\n",
        "            self.figurinhas_faltantes.remove(figurinha)\n",
        "      else: \n",
        "        break\n",
        "\n",
        "  def simula(self):\n",
        "    lista_numeros_pacotes = []\n",
        "    for i in range(self.simulacoes):\n",
        "      self.completa_album()\n",
        "      lista_numeros_pacotes.append(self.pacotes_abertos)\n",
        "      self.reseta()\n",
        "    return lista_numeros_pacotes\n",
        "\n",
        "  def reseta(self):\n",
        "    self.pacotes_abertos = 0\n",
        "    self.figurinhas_faltantes = FIGURINHAS.copy()\n",
        "\n",
        "  def info_album(self):\n",
        "    print(f\"Número de pacotes abertos: {self.pacotes_abertos}\")\n"
      ],
      "metadata": {
        "id": "uWWdA5lLuBB5"
      },
      "execution_count": 145,
      "outputs": []
    },
    {
      "cell_type": "code",
      "source": [
        "FIGURINHAS = [x for x in range(670)]\n",
        "\n",
        "if __name__ == \"__main__\":\n",
        "  #dados de entrada\n",
        "  n_album = 670\n",
        "  preco_pacote = 4\n",
        "  cromos_por_pacote = 5\n",
        "  preco_album = 44.90\n",
        "  simulacoes = 100\n",
        "  album = Album(n_album, preco_pacote, cromos_por_pacote, preco_album, simulacoes, set(FIGURINHAS.copy()))\n",
        "  # np.random.seed(2022)\n",
        "  # album.completa_album()\n",
        "  # album.info_album()\n",
        "  # album.reseta()\n",
        "  # album.completa_album2()\n",
        "  # album.info_album()\n",
        "  # album.reseta()\n",
        "  v1 = album.simula()\n",
        "  print(v1)\n",
        "  v2 = v1\n",
        "  print(f\"Número médio de pacotes para uma pessoa: {statistics.mean(v1)}\\n\", f\"Número médio de pacotes para duas pessoas: {statistics.mean(v2)*simulacoes}\")\n"
      ],
      "metadata": {
        "colab": {
          "base_uri": "https://localhost:8080/"
        },
        "id": "21_x5Pr6rH65",
        "outputId": "c2c7f3bc-ba62-4f5a-e3cb-931fc29daa8c"
      },
      "execution_count": 150,
      "outputs": [
        {
          "output_type": "stream",
          "name": "stdout",
          "text": [
            "[721, 1017, 1102, 839, 846, 793, 1011, 827, 909, 723, 937, 1034, 810, 1040, 748, 734, 1044, 798, 981, 1070, 1114, 864, 1639, 1028, 649, 1091, 890, 800, 696, 1048, 832, 965, 869, 1507, 798, 803, 712, 914, 996, 830, 902, 1481, 816, 1001, 1089, 908, 831, 783, 851, 980, 680, 870, 941, 1320, 1086, 1227, 705, 902, 902, 1032, 928, 1120, 739, 884, 920, 1253, 764, 929, 1034, 1110, 749, 1434, 632, 1105, 952, 925, 905, 908, 713, 743, 906, 1003, 821, 934, 889, 1020, 863, 1028, 863, 880, 1028, 805, 1500, 921, 774, 1088, 1135, 898, 1144, 804]\n",
            "Número médio de pacotes para uma pessoa: 943.87\n",
            " Número médio de pacotes para duas pessoas: 94387.0\n"
          ]
        }
      ]
    }
  ]
}